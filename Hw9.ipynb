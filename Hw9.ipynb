{
  "nbformat": 4,
  "nbformat_minor": 0,
  "metadata": {
    "colab": {
      "provenance": [],
      "authorship_tag": "ABX9TyN2501rTvKZvigNfSU9Og+N"
    },
    "kernelspec": {
      "name": "python3",
      "display_name": "Python 3"
    },
    "language_info": {
      "name": "python"
    }
  },
  "cells": [
    {
      "cell_type": "code",
      "execution_count": null,
      "metadata": {
        "id": "bwEebvchiFQ4"
      },
      "outputs": [],
      "source": [
        "import tensorflow as tf\n",
        "from tensorflow.keras import layers, models\n",
        "import matplotlib.pyplot as plt\n",
        "import numpy as np"
      ]
    },
    {
      "cell_type": "code",
      "source": [
        "# Завантаження датасету Fashion MNIST\n",
        "(train_images, train_labels), (test_images, test_labels) = tf.keras.datasets.fashion_mnist.load_data()\n",
        "\n",
        "# Нормалізація даних\n",
        "train_images = train_images / 255.0\n",
        "test_images = test_images / 255.0"
      ],
      "metadata": {
        "colab": {
          "base_uri": "https://localhost:8080/"
        },
        "id": "rgSjLdWRikHG",
        "outputId": "6b255c20-041e-46a1-e05b-f1891b4836bb"
      },
      "execution_count": null,
      "outputs": [
        {
          "output_type": "stream",
          "name": "stdout",
          "text": [
            "Downloading data from https://storage.googleapis.com/tensorflow/tf-keras-datasets/train-labels-idx1-ubyte.gz\n",
            "29515/29515 [==============================] - 0s 0us/step\n",
            "Downloading data from https://storage.googleapis.com/tensorflow/tf-keras-datasets/train-images-idx3-ubyte.gz\n",
            "26421880/26421880 [==============================] - 0s 0us/step\n",
            "Downloading data from https://storage.googleapis.com/tensorflow/tf-keras-datasets/t10k-labels-idx1-ubyte.gz\n",
            "5148/5148 [==============================] - 0s 0us/step\n",
            "Downloading data from https://storage.googleapis.com/tensorflow/tf-keras-datasets/t10k-images-idx3-ubyte.gz\n",
            "4422102/4422102 [==============================] - 0s 0us/step\n"
          ]
        }
      ]
    },
    {
      "cell_type": "code",
      "source": [
        "model = models.Sequential([\n",
        "    layers.Flatten(input_shape=(28, 28)),\n",
        "    layers.Dense(512, activation='relu'),\n",
        "    layers.BatchNormalization(),\n",
        "    layers.Dropout(0.5),\n",
        "    layers.Dense(256, activation='relu'),\n",
        "    layers.BatchNormalization(),\n",
        "    layers.Dropout(0.5),\n",
        "    layers.Dense(128, activation='relu'),\n",
        "    layers.BatchNormalization(),\n",
        "    layers.Dropout(0.5),\n",
        "    layers.Dense(10, activation='softmax')\n",
        "])"
      ],
      "metadata": {
        "id": "kJcwtpiiixh2"
      },
      "execution_count": null,
      "outputs": []
    },
    {
      "cell_type": "code",
      "source": [
        "model.compile(optimizer=tf.keras.optimizers.Adam(learning_rate=0.0001),\n",
        "              loss='sparse_categorical_crossentropy',\n",
        "              metrics=['accuracy'])"
      ],
      "metadata": {
        "id": "j-LWynAei1lR"
      },
      "execution_count": null,
      "outputs": []
    },
    {
      "cell_type": "code",
      "source": [
        "history = model.fit(train_images, train_labels, epochs=60, batch_size=64,\n",
        "                    validation_data=(test_images, test_labels))"
      ],
      "metadata": {
        "colab": {
          "base_uri": "https://localhost:8080/"
        },
        "id": "w0l9mmmPi5Dz",
        "outputId": "403dd551-8e7f-4bb4-d4e4-85fa94d6c083"
      },
      "execution_count": null,
      "outputs": [
        {
          "output_type": "stream",
          "name": "stdout",
          "text": [
            "Epoch 1/60\n",
            "938/938 [==============================] - 14s 13ms/step - loss: 1.2385 - accuracy: 0.6027 - val_loss: 0.5411 - val_accuracy: 0.8040\n",
            "Epoch 2/60\n",
            "938/938 [==============================] - 12s 13ms/step - loss: 0.7271 - accuracy: 0.7540 - val_loss: 0.4709 - val_accuracy: 0.8327\n",
            "Epoch 3/60\n",
            "938/938 [==============================] - 12s 12ms/step - loss: 0.6195 - accuracy: 0.7854 - val_loss: 0.4455 - val_accuracy: 0.8410\n",
            "Epoch 4/60\n",
            "938/938 [==============================] - 14s 15ms/step - loss: 0.5586 - accuracy: 0.8076 - val_loss: 0.4242 - val_accuracy: 0.8493\n",
            "Epoch 5/60\n",
            "938/938 [==============================] - 11s 12ms/step - loss: 0.5225 - accuracy: 0.8189 - val_loss: 0.4086 - val_accuracy: 0.8530\n",
            "Epoch 6/60\n",
            "938/938 [==============================] - 12s 12ms/step - loss: 0.4911 - accuracy: 0.8293 - val_loss: 0.3923 - val_accuracy: 0.8590\n",
            "Epoch 7/60\n",
            "938/938 [==============================] - 12s 13ms/step - loss: 0.4665 - accuracy: 0.8383 - val_loss: 0.3899 - val_accuracy: 0.8606\n",
            "Epoch 8/60\n",
            "938/938 [==============================] - 12s 13ms/step - loss: 0.4478 - accuracy: 0.8435 - val_loss: 0.3727 - val_accuracy: 0.8656\n",
            "Epoch 9/60\n",
            "938/938 [==============================] - 12s 13ms/step - loss: 0.4315 - accuracy: 0.8479 - val_loss: 0.3734 - val_accuracy: 0.8667\n",
            "Epoch 10/60\n",
            "938/938 [==============================] - 12s 13ms/step - loss: 0.4205 - accuracy: 0.8542 - val_loss: 0.3664 - val_accuracy: 0.8713\n",
            "Epoch 11/60\n",
            "938/938 [==============================] - 12s 13ms/step - loss: 0.4060 - accuracy: 0.8577 - val_loss: 0.3656 - val_accuracy: 0.8661\n",
            "Epoch 12/60\n",
            "938/938 [==============================] - 13s 14ms/step - loss: 0.4024 - accuracy: 0.8579 - val_loss: 0.3576 - val_accuracy: 0.8742\n",
            "Epoch 13/60\n",
            "938/938 [==============================] - 12s 13ms/step - loss: 0.3904 - accuracy: 0.8628 - val_loss: 0.3550 - val_accuracy: 0.8711\n",
            "Epoch 14/60\n",
            "938/938 [==============================] - 12s 13ms/step - loss: 0.3830 - accuracy: 0.8651 - val_loss: 0.3549 - val_accuracy: 0.8744\n",
            "Epoch 15/60\n",
            "938/938 [==============================] - 12s 12ms/step - loss: 0.3735 - accuracy: 0.8679 - val_loss: 0.3500 - val_accuracy: 0.8781\n",
            "Epoch 16/60\n",
            "938/938 [==============================] - 12s 13ms/step - loss: 0.3668 - accuracy: 0.8706 - val_loss: 0.3468 - val_accuracy: 0.8765\n",
            "Epoch 17/60\n",
            "938/938 [==============================] - 12s 12ms/step - loss: 0.3599 - accuracy: 0.8728 - val_loss: 0.3453 - val_accuracy: 0.8793\n",
            "Epoch 18/60\n",
            "938/938 [==============================] - 11s 12ms/step - loss: 0.3555 - accuracy: 0.8739 - val_loss: 0.3436 - val_accuracy: 0.8812\n",
            "Epoch 19/60\n",
            "938/938 [==============================] - 12s 12ms/step - loss: 0.3533 - accuracy: 0.8752 - val_loss: 0.3376 - val_accuracy: 0.8802\n",
            "Epoch 20/60\n",
            "938/938 [==============================] - 12s 12ms/step - loss: 0.3466 - accuracy: 0.8761 - val_loss: 0.3410 - val_accuracy: 0.8793\n",
            "Epoch 21/60\n",
            "938/938 [==============================] - 12s 13ms/step - loss: 0.3406 - accuracy: 0.8780 - val_loss: 0.3275 - val_accuracy: 0.8837\n",
            "Epoch 22/60\n",
            "938/938 [==============================] - 12s 13ms/step - loss: 0.3366 - accuracy: 0.8799 - val_loss: 0.3435 - val_accuracy: 0.8792\n",
            "Epoch 23/60\n",
            "938/938 [==============================] - 12s 13ms/step - loss: 0.3349 - accuracy: 0.8796 - val_loss: 0.3281 - val_accuracy: 0.8848\n",
            "Epoch 24/60\n",
            "938/938 [==============================] - 12s 13ms/step - loss: 0.3296 - accuracy: 0.8831 - val_loss: 0.3249 - val_accuracy: 0.8838\n",
            "Epoch 25/60\n",
            "938/938 [==============================] - 13s 14ms/step - loss: 0.3233 - accuracy: 0.8830 - val_loss: 0.3253 - val_accuracy: 0.8876\n",
            "Epoch 26/60\n",
            "938/938 [==============================] - 12s 13ms/step - loss: 0.3207 - accuracy: 0.8854 - val_loss: 0.3257 - val_accuracy: 0.8843\n",
            "Epoch 27/60\n",
            "938/938 [==============================] - 12s 13ms/step - loss: 0.3164 - accuracy: 0.8877 - val_loss: 0.3283 - val_accuracy: 0.8873\n",
            "Epoch 28/60\n",
            "938/938 [==============================] - 12s 13ms/step - loss: 0.3138 - accuracy: 0.8870 - val_loss: 0.3268 - val_accuracy: 0.8851\n",
            "Epoch 29/60\n",
            "938/938 [==============================] - 11s 12ms/step - loss: 0.3082 - accuracy: 0.8898 - val_loss: 0.3284 - val_accuracy: 0.8805\n",
            "Epoch 30/60\n",
            "938/938 [==============================] - 11s 12ms/step - loss: 0.3129 - accuracy: 0.8887 - val_loss: 0.3205 - val_accuracy: 0.8889\n",
            "Epoch 31/60\n",
            "938/938 [==============================] - 12s 13ms/step - loss: 0.3066 - accuracy: 0.8910 - val_loss: 0.3237 - val_accuracy: 0.8874\n",
            "Epoch 32/60\n",
            "938/938 [==============================] - 12s 13ms/step - loss: 0.3005 - accuracy: 0.8914 - val_loss: 0.3123 - val_accuracy: 0.8916\n",
            "Epoch 33/60\n",
            "938/938 [==============================] - 12s 13ms/step - loss: 0.3013 - accuracy: 0.8915 - val_loss: 0.3179 - val_accuracy: 0.8896\n",
            "Epoch 34/60\n",
            "938/938 [==============================] - 12s 13ms/step - loss: 0.2956 - accuracy: 0.8931 - val_loss: 0.3275 - val_accuracy: 0.8859\n",
            "Epoch 35/60\n",
            "938/938 [==============================] - 12s 13ms/step - loss: 0.2922 - accuracy: 0.8953 - val_loss: 0.3195 - val_accuracy: 0.8902\n",
            "Epoch 36/60\n",
            "938/938 [==============================] - 12s 13ms/step - loss: 0.2966 - accuracy: 0.8937 - val_loss: 0.3174 - val_accuracy: 0.8910\n",
            "Epoch 37/60\n",
            "938/938 [==============================] - 12s 13ms/step - loss: 0.2889 - accuracy: 0.8957 - val_loss: 0.3181 - val_accuracy: 0.8905\n",
            "Epoch 38/60\n",
            "938/938 [==============================] - 12s 13ms/step - loss: 0.2849 - accuracy: 0.8970 - val_loss: 0.3151 - val_accuracy: 0.8908\n",
            "Epoch 39/60\n",
            "938/938 [==============================] - 13s 14ms/step - loss: 0.2862 - accuracy: 0.8973 - val_loss: 0.3147 - val_accuracy: 0.8925\n",
            "Epoch 40/60\n",
            "938/938 [==============================] - 12s 13ms/step - loss: 0.2838 - accuracy: 0.8976 - val_loss: 0.3150 - val_accuracy: 0.8904\n",
            "Epoch 41/60\n",
            "938/938 [==============================] - 11s 12ms/step - loss: 0.2799 - accuracy: 0.8991 - val_loss: 0.3163 - val_accuracy: 0.8920\n",
            "Epoch 42/60\n",
            "938/938 [==============================] - 11s 12ms/step - loss: 0.2816 - accuracy: 0.8991 - val_loss: 0.3222 - val_accuracy: 0.8902\n",
            "Epoch 43/60\n",
            "938/938 [==============================] - 12s 13ms/step - loss: 0.2820 - accuracy: 0.8983 - val_loss: 0.3056 - val_accuracy: 0.8943\n",
            "Epoch 44/60\n",
            "938/938 [==============================] - 12s 13ms/step - loss: 0.2743 - accuracy: 0.9016 - val_loss: 0.3179 - val_accuracy: 0.8928\n",
            "Epoch 45/60\n",
            "938/938 [==============================] - 12s 13ms/step - loss: 0.2748 - accuracy: 0.9010 - val_loss: 0.3107 - val_accuracy: 0.8925\n",
            "Epoch 46/60\n",
            "938/938 [==============================] - 12s 13ms/step - loss: 0.2694 - accuracy: 0.9024 - val_loss: 0.3076 - val_accuracy: 0.8954\n",
            "Epoch 47/60\n",
            "938/938 [==============================] - 12s 13ms/step - loss: 0.2716 - accuracy: 0.9017 - val_loss: 0.3137 - val_accuracy: 0.8932\n",
            "Epoch 48/60\n",
            "938/938 [==============================] - 12s 13ms/step - loss: 0.2670 - accuracy: 0.9028 - val_loss: 0.3099 - val_accuracy: 0.8935\n",
            "Epoch 49/60\n",
            "938/938 [==============================] - 12s 13ms/step - loss: 0.2670 - accuracy: 0.9032 - val_loss: 0.3086 - val_accuracy: 0.8912\n",
            "Epoch 50/60\n",
            "938/938 [==============================] - 12s 13ms/step - loss: 0.2625 - accuracy: 0.9056 - val_loss: 0.3147 - val_accuracy: 0.8929\n",
            "Epoch 51/60\n",
            "938/938 [==============================] - 12s 13ms/step - loss: 0.2654 - accuracy: 0.9047 - val_loss: 0.3143 - val_accuracy: 0.8932\n",
            "Epoch 52/60\n",
            "938/938 [==============================] - 13s 14ms/step - loss: 0.2610 - accuracy: 0.9051 - val_loss: 0.3074 - val_accuracy: 0.8961\n",
            "Epoch 53/60\n",
            "938/938 [==============================] - 12s 13ms/step - loss: 0.2586 - accuracy: 0.9070 - val_loss: 0.3107 - val_accuracy: 0.8954\n",
            "Epoch 54/60\n",
            "938/938 [==============================] - 11s 12ms/step - loss: 0.2585 - accuracy: 0.9072 - val_loss: 0.3118 - val_accuracy: 0.8940\n",
            "Epoch 55/60\n",
            "938/938 [==============================] - 11s 12ms/step - loss: 0.2573 - accuracy: 0.9065 - val_loss: 0.3043 - val_accuracy: 0.8957\n",
            "Epoch 56/60\n",
            "938/938 [==============================] - 12s 13ms/step - loss: 0.2549 - accuracy: 0.9077 - val_loss: 0.3111 - val_accuracy: 0.8930\n",
            "Epoch 57/60\n",
            "938/938 [==============================] - 12s 13ms/step - loss: 0.2529 - accuracy: 0.9074 - val_loss: 0.3099 - val_accuracy: 0.8926\n",
            "Epoch 58/60\n",
            "938/938 [==============================] - 12s 13ms/step - loss: 0.2493 - accuracy: 0.9098 - val_loss: 0.3090 - val_accuracy: 0.8952\n",
            "Epoch 59/60\n",
            "938/938 [==============================] - 12s 13ms/step - loss: 0.2476 - accuracy: 0.9103 - val_loss: 0.3074 - val_accuracy: 0.8951\n",
            "Epoch 60/60\n",
            "938/938 [==============================] - 12s 13ms/step - loss: 0.2525 - accuracy: 0.9089 - val_loss: 0.3078 - val_accuracy: 0.8948\n"
          ]
        }
      ]
    },
    {
      "cell_type": "code",
      "source": [
        "test_loss, test_acc = model.evaluate(test_images, test_labels, verbose=2)\n",
        "print('\\nТочність на тестових даних:', test_acc)"
      ],
      "metadata": {
        "colab": {
          "base_uri": "https://localhost:8080/"
        },
        "id": "ehfqvovijgP9",
        "outputId": "c64cd526-1de7-4399-f237-d8958c602ea8"
      },
      "execution_count": null,
      "outputs": [
        {
          "output_type": "stream",
          "name": "stdout",
          "text": [
            "313/313 - 1s - loss: 0.3078 - accuracy: 0.8948 - 1s/epoch - 4ms/step\n",
            "\n",
            "Точність на тестових даних: 0.8948000073432922\n"
          ]
        }
      ]
    },
    {
      "cell_type": "code",
      "source": [
        "plt.plot(history.history['accuracy'], label='accuracy')\n",
        "plt.plot(history.history['val_accuracy'], label='val_accuracy')\n",
        "plt.xlabel('Epoch')\n",
        "plt.ylabel('Accuracy')\n",
        "plt.ylim([0, 1])\n",
        "plt.legend(loc='lower right')\n",
        "plt.show()"
      ],
      "metadata": {
        "colab": {
          "base_uri": "https://localhost:8080/",
          "height": 267
        },
        "id": "Tagi4k04joe2",
        "outputId": "6a407e40-999b-4f68-adf6-3ed22ea7421c"
      },
      "execution_count": null,
      "outputs": [
        {
          "output_type": "display_data",
          "data": {
            "text/plain": [
              "<Figure size 640x480 with 1 Axes>"
            ],
            "image/png": "[encoded data removed]"
          },
          "metadata": {}
        }
      ]
    },
    {
      "cell_type": "markdown",
      "source": [
        "### Висновок\n",
        "\n",
        "Створено нейронну мережу для класифікації зображень із датасету Fashion MNIST за допомогою бібліотеки Keras. Після кількох спроб досягнуто точності моделі на тестових даних близько 89%. Незважаючи на те, що це нижче за очікувану точність 91%, модель показала значні поліпшення в порівнянні з початковими спробами.\n",
        "\n",
        "### Основні покращення:\n",
        "1. **Збільшення кількості нейронів та шарів:**\n",
        "2. **Використання L2 регуляризації:**\n",
        "3. **Batch Normalization:**\n",
        "4. **Використання Dropout:**\n",
        "5. **Зменшення кроку навчання:**\n",
        "\n",
        "### Результати\n",
        "Після цих покращень модель навчалась протягом 60 епох із розміром батчу 64. На жаль, модель досягла точності лише 89% на тестових даних, що нижче за бажаний поріг у 91%.\n",
        "\n",
        "Хоча модель не досягла бажаної точності 91%, досягнення 89% є значним покращенням, що свідчить про ефективність застосованих методів. Подальші експерименти з гіперпараметрами та техніками навчання можуть допомогти досягти кращих результатів у майбутньому."
      ],
      "metadata": {
        "id": "h_I-MuU5j4Kx"
      }
    }
  ]
}