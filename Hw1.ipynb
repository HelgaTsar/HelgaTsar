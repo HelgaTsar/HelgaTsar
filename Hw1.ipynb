{
 "cells": [
  {
   "cell_type": "code",
   "execution_count": 1,
   "id": "4ce05f5e-b2fc-4368-866e-96ea407838be",
   "metadata": {},
   "outputs": [],
   "source": [
    "import numpy as np"
   ]
  },
  {
   "cell_type": "code",
   "execution_count": 2,
   "id": "156535c5-df8c-4d95-a971-0f884686a031",
   "metadata": {},
   "outputs": [
    {
     "name": "stdout",
     "output_type": "stream",
     "text": [
      "[ 1  2  3  4  5  6  7  8  9 10]\n",
      "[ 1.  2.  3.  4.  5.  6.  7.  8.  9. 10.]\n"
     ]
    }
   ],
   "source": [
    "task1 = np.array([1, 2, 3, 4, 5, 6, 7, 8, 9, 10])\n",
    "task1_1 = np.linspace(1, 10, num=10)\n",
    "print(task1)\n",
    "print(task1_1)"
   ]
  },
  {
   "cell_type": "code",
   "execution_count": 3,
   "id": "eabf13c6-43e0-4046-86ae-45a82e99b4a1",
   "metadata": {},
   "outputs": [
    {
     "name": "stdout",
     "output_type": "stream",
     "text": [
      "[[0. 0. 0.]\n",
      " [0. 0. 0.]\n",
      " [0. 0. 0.]]\n"
     ]
    }
   ],
   "source": [
    "task2 = np.zeros((3, 3))\n",
    "print(task2)"
   ]
  },
  {
   "cell_type": "code",
   "execution_count": 4,
   "id": "f3703e9c-bbbd-4b97-aac3-a93408d48dbb",
   "metadata": {},
   "outputs": [
    {
     "name": "stdout",
     "output_type": "stream",
     "text": [
      "[[ 7  1  9  7  9]\n",
      " [ 4  7  5  8  7]\n",
      " [ 3  5  4 10  1]\n",
      " [ 2 10  4 10 10]\n",
      " [ 5  2  4  5  5]]\n"
     ]
    }
   ],
   "source": [
    "task3 = np.random.randint(1, 11, size=(5, 5))\n",
    "print(task3)"
   ]
  },
  {
   "cell_type": "code",
   "execution_count": 5,
   "id": "683f15c6-e52f-422a-9915-ea5ff65fabfb",
   "metadata": {},
   "outputs": [
    {
     "name": "stdout",
     "output_type": "stream",
     "text": [
      "[[0.26909493 0.37019562 0.36284363 0.92334922]\n",
      " [0.87901855 0.30323147 0.22813416 0.54321812]\n",
      " [0.9282065  0.55613573 0.89935616 0.03953307]\n",
      " [0.68612213 0.08168539 0.49516425 0.29520402]]\n"
     ]
    }
   ],
   "source": [
    "task4 = np.random.random(size=(4, 4))\n",
    "print(task4)"
   ]
  },
  {
   "cell_type": "code",
   "execution_count": 6,
   "id": "2ad68493-01ee-49e2-b282-53ce54599f84",
   "metadata": {},
   "outputs": [
    {
     "name": "stdout",
     "output_type": "stream",
     "text": [
      "[15 13  9 12 15]\n",
      "[ 5 -1  7 -4 -5]\n",
      "[50 42  8 32 50]\n"
     ]
    }
   ],
   "source": [
    "task5 = np.random.randint(1, 11, size=(5,))\n",
    "task5_1 = np.random.randint(1, 11, size=(5,))\n",
    "print(task5 + task5_1)\n",
    "print(task5 - task5_1)\n",
    "print(task5 * task5_1)"
   ]
  },
  {
   "cell_type": "code",
   "execution_count": 7,
   "id": "d2025190-f604-42a8-8ed4-7e44b406d687",
   "metadata": {},
   "outputs": [
    {
     "name": "stdout",
     "output_type": "stream",
     "text": [
      "84\n"
     ]
    }
   ],
   "source": [
    "task6 = np.array([1, 2, 3, 4, 5, 6, 7])\n",
    "task6_1 = np.array([7, 6, 5, 4, 3, 2, 1])\n",
    "print(np.dot(task6, task6_1))"
   ]
  },
  {
   "cell_type": "code",
   "execution_count": 8,
   "id": "1fe43798-ac83-4f46-9cb8-5e842c5c8801",
   "metadata": {},
   "outputs": [
    {
     "name": "stdout",
     "output_type": "stream",
     "text": [
      "[[ 42  81  65]\n",
      " [ 85 105  70]]\n"
     ]
    }
   ],
   "source": [
    "task7 = np.random.randint(1, 11, size=(2, 2))\n",
    "task7_1 = np.random.randint(1, 11, size=(2, 3))\n",
    "task7_2 = np.dot(task7, task7_1)\n",
    "print(task7_2)"
   ]
  },
  {
   "cell_type": "code",
   "execution_count": 9,
   "id": "05a04289-b4a5-4e48-a91d-a80edfa00a1f",
   "metadata": {},
   "outputs": [
    {
     "name": "stdout",
     "output_type": "stream",
     "text": [
      "[[-0.08312958 -0.04645477  0.15158924]\n",
      " [-0.17603912  0.13691932  0.02689487]\n",
      " [ 0.14914425 -0.00488998 -0.03667482]]\n"
     ]
    }
   ],
   "source": [
    "task8 = np.random.randint(1, 11, size=(3, 3))\n",
    "task8_1 = np.linalg.inv(task8)\n",
    "print(task8_1)"
   ]
  },
  {
   "cell_type": "code",
   "execution_count": 10,
   "id": "730819e1-e732-411c-bd0f-c3d643cb4c20",
   "metadata": {},
   "outputs": [
    {
     "name": "stdout",
     "output_type": "stream",
     "text": [
      "[[0.06880712 0.51733503 0.92993765 0.85037155]\n",
      " [0.25324115 0.52706249 0.79799125 0.83195063]\n",
      " [0.54413462 0.53480485 0.89232364 0.33069338]\n",
      " [0.11239097 0.20065227 0.4214712  0.33129009]]\n"
     ]
    }
   ],
   "source": [
    "task9 = np.random.random(size=(4, 4))\n",
    "task9_1 = task9.T\n",
    "print(task9_1)"
   ]
  },
  {
   "cell_type": "code",
   "execution_count": 11,
   "id": "339628bb-21ad-4e86-8029-b199f2763ed0",
   "metadata": {},
   "outputs": [
    {
     "name": "stdout",
     "output_type": "stream",
     "text": [
      "[196 172 205]\n"
     ]
    }
   ],
   "source": [
    "task10 = np.random.randint(1, 11, size=(3, 4))\n",
    "task10_1 = np.random.randint(1, 11, size=(4,))\n",
    "task10_2 = np.dot(task10, task10_1)\n",
    "print(task10_2)"
   ]
  },
  {
   "cell_type": "code",
   "execution_count": 12,
   "id": "85a1e14d-a544-404e-864a-799cb2d88edb",
   "metadata": {},
   "outputs": [
    {
     "name": "stdout",
     "output_type": "stream",
     "text": [
      "[0.85350581 0.57047309]\n"
     ]
    }
   ],
   "source": [
    "task11 = np.random.random(size=(2, 3))\n",
    "task11_1 = np.random.random(size=(3,))\n",
    "task11_2 = np.dot(task11, task11_1)\n",
    "print(task11_2)"
   ]
  },
  {
   "cell_type": "code",
   "execution_count": 13,
   "id": "806bdfd5-917a-4ad8-9d1e-b7a7c318339f",
   "metadata": {},
   "outputs": [
    {
     "name": "stdout",
     "output_type": "stream",
     "text": [
      "[[12 56]\n",
      " [35 30]]\n"
     ]
    }
   ],
   "source": [
    "task12 = np.random.randint(1, 11, (2, 2))\n",
    "task12_1 = np.random.randint(1, 11, (2, 2))\n",
    "print(task12 * task12_1)"
   ]
  },
  {
   "cell_type": "code",
   "execution_count": 14,
   "id": "734d5574-5d47-4a42-89af-256ba9235940",
   "metadata": {},
   "outputs": [
    {
     "name": "stdout",
     "output_type": "stream",
     "text": [
      "[[30 69]\n",
      " [42 66]]\n"
     ]
    }
   ],
   "source": [
    "task13 = np.random.randint(1, 11, (2, 2))\n",
    "task13_1 = np.random.randint(1, 11, (2, 2))\n",
    "task13_2 = np.dot(task13, task13_1)\n",
    "print(task13_2)"
   ]
  },
  {
   "cell_type": "code",
   "execution_count": 15,
   "id": "9e59d085-1f89-4526-b811-d5d9f988b92c",
   "metadata": {},
   "outputs": [
    {
     "name": "stdout",
     "output_type": "stream",
     "text": [
      "1573\n"
     ]
    }
   ],
   "source": [
    "task14 = np.random.randint(1, 101, (5, 5))\n",
    "print(task14.sum())"
   ]
  },
  {
   "cell_type": "code",
   "execution_count": 16,
   "id": "c6018377-2f60-4b20-aaa5-f6f25898ebd3",
   "metadata": {},
   "outputs": [
    {
     "name": "stdout",
     "output_type": "stream",
     "text": [
      "[[-4  9 -5 -2]\n",
      " [ 8 -6  3 -5]\n",
      " [ 3  1  2 -3]\n",
      " [ 5  5 -3 -3]]\n"
     ]
    }
   ],
   "source": [
    "task15 = np.random.randint(1, 11, (4, 4))\n",
    "task15_1 = np.random.randint(1, 11, (4, 4))\n",
    "task15_2 = task15 - task15_1\n",
    "print(task15_2)"
   ]
  },
  {
   "cell_type": "code",
   "execution_count": 3,
   "id": "d0a70ba7-4084-486a-92d1-d48126675309",
   "metadata": {},
   "outputs": [
    {
     "name": "stdout",
     "output_type": "stream",
     "text": [
      "[[1.31082506]\n",
      " [1.94635268]\n",
      " [0.40680049]]\n"
     ]
    }
   ],
   "source": [
    "task16 = np.random.random(size=(3, 3))\n",
    "task16_1 = np.sum(task16, axis=1).reshape(-1, 1)\n",
    "print(task16_1)"
   ]
  },
  {
   "cell_type": "code",
   "execution_count": 18,
   "id": "8ef8ba25-443c-4e27-af49-5feb0d38ca3a",
   "metadata": {},
   "outputs": [
    {
     "name": "stdout",
     "output_type": "stream",
     "text": [
      "[[ 1 64  9 64]\n",
      " [81 81 16  1]\n",
      " [25 49 81 36]]\n"
     ]
    }
   ],
   "source": [
    "task17 = np.random.randint(1, 10, (3, 4))\n",
    "task17_1 = task17 ** 2\n",
    "print(task17_1)"
   ]
  },
  {
   "cell_type": "code",
   "execution_count": 19,
   "id": "98863030-a2ea-4743-a310-282bf1c941ac",
   "metadata": {},
   "outputs": [
    {
     "name": "stdout",
     "output_type": "stream",
     "text": [
      "[5.19615242 5.65685425 5.91607978 1.41421356]\n"
     ]
    }
   ],
   "source": [
    "task18 = np.random.randint(1, 51, size=(4,))\n",
    "task18_1 = np.sqrt(task18)\n",
    "print(task18_1)"
   ]
  },
  {
   "cell_type": "code",
   "execution_count": null,
   "id": "75c816e9-b43b-4010-95a4-34b15840f3d4",
   "metadata": {},
   "outputs": [],
   "source": []
  }
 ],
 "metadata": {
  "kernelspec": {
   "display_name": "Python 3 (ipykernel)",
   "language": "python",
   "name": "python3"
  },
  "language_info": {
   "codemirror_mode": {
    "name": "ipython",
    "version": 3
   },
   "file_extension": ".py",
   "mimetype": "text/x-python",
   "name": "python",
   "nbconvert_exporter": "python",
   "pygments_lexer": "ipython3",
   "version": "3.11.7"
  }
 },
 "nbformat": 4,
 "nbformat_minor": 5
}
